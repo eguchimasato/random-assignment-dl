{
 "cells": [
  {
   "cell_type": "code",
   "execution_count": 1,
   "metadata": {},
   "outputs": [],
   "source": [
    "import os\n",
    "import sys\n",
    "import time\n",
    "import logging\n",
    "import argparse\n",
    "import numpy as np\n",
    "import pandas as pd\n",
    "from tqdm import tqdm\n",
    "from random import random\n",
    "import itertools\n",
    "from pathlib import Path\n",
    "import matplotlib.pyplot as plt\n",
    "import seaborn as sns\n",
    "import torch"
   ]
  },
  {
   "cell_type": "code",
   "execution_count": 2,
   "metadata": {},
   "outputs": [
    {
     "data": {
      "text/plain": [
       "'/Users/eguchimasato/random-assignment-dl'"
      ]
     },
     "execution_count": 2,
     "metadata": {},
     "output_type": "execute_result"
    }
   ],
   "source": [
    "project_root = os.path.abspath('..')\n",
    "if project_root not in sys.path:\n",
    "    sys.path.append(project_root)\n",
    "project_root"
   ]
  },
  {
   "cell_type": "code",
   "execution_count": 3,
   "metadata": {},
   "outputs": [],
   "source": [
    "from logging import getLogger\n",
    "logger = getLogger(__name__)\n",
    "logger.setLevel(logging.INFO)"
   ]
  },
  {
   "cell_type": "code",
   "execution_count": 4,
   "metadata": {},
   "outputs": [],
   "source": [
    "from model import NeuralNet, train_model\n",
    "from params import HParams\n",
    "from data import Data"
   ]
  },
  {
   "cell_type": "code",
   "execution_count": 5,
   "metadata": {},
   "outputs": [],
   "source": [
    "cfg = HParams(\n",
    "    num_goods=4,\n",
    "    num_hidden_nodes=64,\n",
    "    batch_size=258,\n",
    "    epochs=10000,\n",
    "    corr = 0,\n",
    "    device='mps',\n",
    "    lr=0.0001,\n",
    "    )\n",
    "model = NeuralNet(cfg)\n",
    "data = Data(cfg)"
   ]
  },
  {
   "cell_type": "code",
   "execution_count": 6,
   "metadata": {},
   "outputs": [
    {
     "name": "stdout",
     "output_type": "stream",
     "text": [
      "Training started.\n",
      "Epoch: 100\n",
      "Total Loss: 1703.8240966796875\n",
      "SPV: 0.2188233733177185\n",
      "ETEV: 0.6981440186500549\n",
      "Objective Loss(ev): 1584.39208984375\n",
      "Paramiters: lambda_spv = 29.10152031481266, lambda_sv = 54.90145601332188, rho = 1\n",
      "---------------------------\n",
      "Epoch: 200\n",
      "Total Loss: 1868.35009765625\n",
      "SPV: 0.20273250341415405\n",
      "ETEV: 0.9562892913818359\n",
      "Objective Loss(ev): 1462.657470703125\n",
      "Paramiters: lambda_spv = 50.03554792702198, lambda_sv = 161.21243135631084, rho = 1\n",
      "---------------------------\n"
     ]
    },
    {
     "ename": "KeyboardInterrupt",
     "evalue": "",
     "output_type": "error",
     "traceback": [
      "\u001b[0;31m---------------------------------------------------------------------------\u001b[0m",
      "\u001b[0;31mKeyboardInterrupt\u001b[0m                         Traceback (most recent call last)",
      "Cell \u001b[0;32mIn[6], line 1\u001b[0m\n\u001b[0;32m----> 1\u001b[0m \u001b[43mtrain_model\u001b[49m\u001b[43m(\u001b[49m\u001b[43mcfg\u001b[49m\u001b[43m,\u001b[49m\u001b[43m \u001b[49m\u001b[43mmodel\u001b[49m\u001b[43m,\u001b[49m\u001b[43m \u001b[49m\u001b[43mdata\u001b[49m\u001b[43m)\u001b[49m\n",
      "File \u001b[0;32m~/random-assignment-dl/model/model.py:79\u001b[0m, in \u001b[0;36mtrain_model\u001b[0;34m(cfg, model, data)\u001b[0m\n\u001b[1;32m     77\u001b[0m spv \u001b[38;5;241m=\u001b[39m spv_computer\u001b[38;5;241m.\u001b[39mcalculate_spv(cfg, model, r, P)  \u001b[38;5;66;03m# 制約条件1の損失\u001b[39;00m\n\u001b[1;32m     78\u001b[0m etev_computer \u001b[38;5;241m=\u001b[39m compute_etev(cfg, r, P)\n\u001b[0;32m---> 79\u001b[0m etev \u001b[38;5;241m=\u001b[39m \u001b[43metev_computer\u001b[49m\u001b[38;5;241;43m.\u001b[39;49m\u001b[43mcompute_violation_degrees\u001b[49m\u001b[43m(\u001b[49m\u001b[43mcfg\u001b[49m\u001b[43m)\u001b[49m\u001b[38;5;241m.\u001b[39msum()  \u001b[38;5;66;03m# 制約条件2の損失\u001b[39;00m\n\u001b[1;32m     80\u001b[0m ev_computer \u001b[38;5;241m=\u001b[39m compute_ev(cfg, r, P)\n\u001b[1;32m     81\u001b[0m objective_loss \u001b[38;5;241m=\u001b[39m ev_computer\u001b[38;5;241m.\u001b[39mexecute_all_cycles_batch()\u001b[38;5;241m.\u001b[39msum()  \u001b[38;5;66;03m# 目的関数\u001b[39;00m\n",
      "File \u001b[0;32m~/random-assignment-dl/model/equal_treatment_of_equals.py:51\u001b[0m, in \u001b[0;36mcompute_etev.compute_violation_degrees\u001b[0;34m(self, cfg)\u001b[0m\n\u001b[1;32m     49\u001b[0m     P_batch \u001b[38;5;241m=\u001b[39m \u001b[38;5;28mself\u001b[39m\u001b[38;5;241m.\u001b[39mP[b]\u001b[38;5;241m.\u001b[39mview(n, n)\n\u001b[1;32m     50\u001b[0m     preferences_batch \u001b[38;5;241m=\u001b[39m \u001b[38;5;28mself\u001b[39m\u001b[38;5;241m.\u001b[39mpreferences[b]\u001b[38;5;241m.\u001b[39mview(n, n)\n\u001b[0;32m---> 51\u001b[0m     results[b, \u001b[38;5;241m0\u001b[39m] \u001b[38;5;241m=\u001b[39m \u001b[38;5;28;43mself\u001b[39;49m\u001b[38;5;241;43m.\u001b[39;49m\u001b[43mviolation_degree\u001b[49m\u001b[43m(\u001b[49m\u001b[43mcfg\u001b[49m\u001b[43m,\u001b[49m\u001b[43m \u001b[49m\u001b[43mP_batch\u001b[49m\u001b[43m,\u001b[49m\u001b[43m \u001b[49m\u001b[43mpreferences_batch\u001b[49m\u001b[43m)\u001b[49m\n\u001b[1;32m     53\u001b[0m \u001b[38;5;28;01mreturn\u001b[39;00m results\n",
      "File \u001b[0;32m~/random-assignment-dl/model/equal_treatment_of_equals.py:35\u001b[0m, in \u001b[0;36mcompute_etev.violation_degree\u001b[0;34m(self, cfg, P, preferences)\u001b[0m\n\u001b[1;32m     32\u001b[0m     \u001b[38;5;28;01mfor\u001b[39;00m j \u001b[38;5;129;01min\u001b[39;00m \u001b[38;5;28mrange\u001b[39m(i \u001b[38;5;241m+\u001b[39m \u001b[38;5;241m1\u001b[39m, n):\n\u001b[1;32m     33\u001b[0m         \u001b[38;5;28;01mif\u001b[39;00m torch\u001b[38;5;241m.\u001b[39mall(preferences[i] \u001b[38;5;241m==\u001b[39m preferences[j]):\n\u001b[1;32m     34\u001b[0m             \u001b[38;5;66;03m# L1ノルムを計算し、.item()で数値に変換\u001b[39;00m\n\u001b[0;32m---> 35\u001b[0m             diff \u001b[38;5;241m=\u001b[39m torch\u001b[38;5;241m.\u001b[39msum(\u001b[43mtorch\u001b[49m\u001b[38;5;241;43m.\u001b[39;49m\u001b[43mabs\u001b[49m\u001b[43m(\u001b[49m\u001b[43mP\u001b[49m\u001b[43m[\u001b[49m\u001b[43mi\u001b[49m\u001b[43m]\u001b[49m\u001b[43m \u001b[49m\u001b[38;5;241;43m-\u001b[39;49m\u001b[43m \u001b[49m\u001b[43mP\u001b[49m\u001b[43m[\u001b[49m\u001b[43mj\u001b[49m\u001b[43m]\u001b[49m\u001b[43m)\u001b[49m)\u001b[38;5;241m.\u001b[39mitem()\n\u001b[1;32m     36\u001b[0m             violation \u001b[38;5;241m+\u001b[39m\u001b[38;5;241m=\u001b[39m diff\n\u001b[1;32m     37\u001b[0m \u001b[38;5;28;01mreturn\u001b[39;00m violation\n",
      "\u001b[0;31mKeyboardInterrupt\u001b[0m: "
     ]
    }
   ],
   "source": [
    "train_model(cfg, model, data)"
   ]
  },
  {
   "cell_type": "code",
   "execution_count": null,
   "metadata": {},
   "outputs": [],
   "source": []
  }
 ],
 "metadata": {
  "kernelspec": {
   "display_name": "Python 3",
   "language": "python",
   "name": "python3"
  },
  "language_info": {
   "codemirror_mode": {
    "name": "ipython",
    "version": 3
   },
   "file_extension": ".py",
   "mimetype": "text/x-python",
   "name": "python",
   "nbconvert_exporter": "python",
   "pygments_lexer": "ipython3",
   "version": "3.13.1"
  }
 },
 "nbformat": 4,
 "nbformat_minor": 2
}
