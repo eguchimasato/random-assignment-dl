{
 "cells": [
  {
   "cell_type": "code",
   "execution_count": 1,
   "metadata": {},
   "outputs": [],
   "source": [
    "import os\n",
    "import sys\n",
    "import time\n",
    "import logging\n",
    "import argparse\n",
    "import numpy as np\n",
    "import pandas as pd\n",
    "from tqdm import tqdm\n",
    "from random import random\n",
    "import itertools\n",
    "from pathlib import Path\n",
    "import matplotlib.pyplot as plt\n",
    "import seaborn as sns\n",
    "import torch"
   ]
  },
  {
   "cell_type": "code",
   "execution_count": 2,
   "metadata": {},
   "outputs": [
    {
     "data": {
      "text/plain": [
       "'/Users/eguchimasato/random-assignment-dl'"
      ]
     },
     "execution_count": 2,
     "metadata": {},
     "output_type": "execute_result"
    }
   ],
   "source": [
    "project_root = os.path.abspath('..')\n",
    "if project_root not in sys.path:\n",
    "    sys.path.append(project_root)\n",
    "project_root"
   ]
  },
  {
   "cell_type": "code",
   "execution_count": 3,
   "metadata": {},
   "outputs": [],
   "source": [
    "from logging import getLogger\n",
    "logger = getLogger(__name__)\n",
    "logger.setLevel(logging.INFO)"
   ]
  },
  {
   "cell_type": "code",
   "execution_count": 4,
   "metadata": {},
   "outputs": [],
   "source": [
    "from model import NeuralNet, train_model\n",
    "from params import HParams\n",
    "from data import Data"
   ]
  },
  {
   "cell_type": "code",
   "execution_count": null,
   "metadata": {},
   "outputs": [],
   "source": [
    "cfg = HParams(\n",
    "    num_goods=4,\n",
    "    num_hidden_nodes=256,\n",
    "    batch_size=128,\n",
    "    epochs=100000,\n",
    "    corr = 0,\n",
    "    device='mps',\n",
    "    lr=0.0001,\n",
    "    )\n",
    "model = NeuralNet(cfg)\n",
    "data = Data(cfg)"
   ]
  },
  {
   "cell_type": "code",
   "execution_count": 6,
   "metadata": {},
   "outputs": [
    {
     "name": "stdout",
     "output_type": "stream",
     "text": [
      "Training started.\n",
      "Epoch: 100\n",
      "Total Loss: 76.74156951904297\n",
      "SPV: 0.034824106842279434\n",
      "ETEV: 0.2477256804704666\n",
      "Objective Loss(ev): 1.1936641931533813\n",
      "Parameters: lambda_spv = 41.74696535738744, lambda_sv = 297.8356792283293, rho = 18.658866000831356\n",
      "---------------------------\n",
      "Epoch: 200\n",
      "Total Loss: 5324.89013671875\n",
      "SPV: 0.012937404215335846\n",
      "ETEV: 0.8154011964797974\n",
      "Objective Loss(ev): 1.152632713317871\n",
      "Parameters: lambda_spv = 237.20508554766744, lambda_sv = 6516.207142778736, rho = 358.59787885008944\n",
      "---------------------------\n",
      "Epoch: 300\n",
      "Total Loss: 126465.2890625\n",
      "SPV: 0.005103175528347492\n",
      "ETEV: 0.9349942803382874\n",
      "Objective Loss(ev): 1.114454746246338\n",
      "Parameters: lambda_spv = 1655.0243262901924, lambda_sv = 135181.28624216924, rho = 6691.029769646178\n",
      "---------------------------\n",
      "Epoch: 400\n",
      "Total Loss: 1075779.125\n",
      "SPV: 0.0018969783559441566\n",
      "ETEV: 0.44197511672973633\n",
      "Objective Loss(ev): 1.1329066753387451\n",
      "Parameters: lambda_spv = 12192.990025605875, lambda_sv = 2433511.6579924496, rho = 124847.02787940149\n",
      "---------------------------\n",
      "Epoch: 500\n",
      "Total Loss: 23521966.0\n",
      "SPV: 0.0009144531795755029\n",
      "ETEV: 0.48077961802482605\n",
      "Objective Loss(ev): 1.2038779258728027\n",
      "Parameters: lambda_spv = 97243.64309899425, lambda_sv = 48920186.813920386, rho = 2399389.0827179244\n",
      "---------------------------\n"
     ]
    },
    {
     "name": "stderr",
     "output_type": "stream",
     "text": [
      "Process SpawnPoolWorker-4278:\n",
      "Process SpawnPoolWorker-4277:\n",
      "Process SpawnPoolWorker-4274:\n",
      "Process SpawnPoolWorker-4273:\n",
      "Process SpawnPoolWorker-4280:\n",
      "Process SpawnPoolWorker-4279:\n",
      "Process SpawnPoolWorker-4276:\n",
      "Process SpawnPoolWorker-4275:\n",
      "Traceback (most recent call last):\n",
      "Traceback (most recent call last):\n",
      "  File \"/opt/homebrew/Cellar/python@3.13/3.13.1/Frameworks/Python.framework/Versions/3.13/lib/python3.13/multiprocessing/process.py\", line 313, in _bootstrap\n",
      "    self.run()\n",
      "    ~~~~~~~~^^\n",
      "  File \"/opt/homebrew/Cellar/python@3.13/3.13.1/Frameworks/Python.framework/Versions/3.13/lib/python3.13/multiprocessing/process.py\", line 108, in run\n",
      "    self._target(*self._args, **self._kwargs)\n",
      "    ~~~~~~~~~~~~^^^^^^^^^^^^^^^^^^^^^^^^^^^^^\n",
      "  File \"/opt/homebrew/Cellar/python@3.13/3.13.1/Frameworks/Python.framework/Versions/3.13/lib/python3.13/multiprocessing/pool.py\", line 114, in worker\n",
      "    task = get()\n",
      "  File \"/opt/homebrew/Cellar/python@3.13/3.13.1/Frameworks/Python.framework/Versions/3.13/lib/python3.13/multiprocessing/queues.py\", line 387, in get\n",
      "    return _ForkingPickler.loads(res)\n",
      "           ~~~~~~~~~~~~~~~~~~~~~^^^^^\n",
      "  File \"/Users/eguchimasato/random-assignment-dl/model/efficiency.py\", line 1, in <module>\n",
      "    import torch\n",
      "  File \"/opt/homebrew/lib/python3.13/site-packages/torch/__init__.py\", line 2108, in <module>\n",
      "    from torch import _VF as _VF, functional as functional  # usort: skip\n",
      "    ^^^^^^^^^^^^^^^^^^^^^^^^^^^^^^^^^^^^^^^^^^^^^^^^^^^^^^\n",
      "  File \"/opt/homebrew/lib/python3.13/site-packages/torch/functional.py\", line 7, in <module>\n",
      "    import torch.nn.functional as F\n",
      "  File \"/opt/homebrew/lib/python3.13/site-packages/torch/nn/__init__.py\", line 8, in <module>\n",
      "    from torch.nn.modules import *  # usort: skip # noqa: F403\n",
      "    ^^^^^^^^^^^^^^^^^^^^^^^^^^^^^^\n",
      "  File \"/opt/homebrew/lib/python3.13/site-packages/torch/nn/modules/__init__.py\", line 86, in <module>\n",
      "    from .loss import (\n",
      "    ...<22 lines>...\n",
      "    )\n",
      "  File \"<frozen importlib._bootstrap>\", line 1360, in _find_and_load\n",
      "  File \"<frozen importlib._bootstrap>\", line 1322, in _find_and_load_unlocked\n",
      "  File \"<frozen importlib._bootstrap>\", line 1262, in _find_spec\n",
      "  File \"<frozen importlib._bootstrap_external>\", line 1559, in find_spec\n",
      "  File \"<frozen importlib._bootstrap_external>\", line 1533, in _get_spec\n",
      "  File \"<frozen importlib._bootstrap_external>\", line 1666, in find_spec\n",
      "  File \"<frozen importlib._bootstrap_external>\", line 1621, in _get_spec\n",
      "  File \"<frozen importlib._bootstrap_external>\", line 869, in spec_from_file_location\n",
      "  File \"<frozen importlib._bootstrap>\", line 599, in __init__\n",
      "KeyboardInterrupt\n",
      "  File \"/opt/homebrew/Cellar/python@3.13/3.13.1/Frameworks/Python.framework/Versions/3.13/lib/python3.13/multiprocessing/process.py\", line 313, in _bootstrap\n",
      "    self.run()\n",
      "    ~~~~~~~~^^\n",
      "  File \"/opt/homebrew/Cellar/python@3.13/3.13.1/Frameworks/Python.framework/Versions/3.13/lib/python3.13/multiprocessing/process.py\", line 108, in run\n",
      "    self._target(*self._args, **self._kwargs)\n",
      "    ~~~~~~~~~~~~^^^^^^^^^^^^^^^^^^^^^^^^^^^^^\n",
      "  File \"/opt/homebrew/Cellar/python@3.13/3.13.1/Frameworks/Python.framework/Versions/3.13/lib/python3.13/multiprocessing/pool.py\", line 114, in worker\n",
      "    task = get()\n",
      "  File \"/opt/homebrew/Cellar/python@3.13/3.13.1/Frameworks/Python.framework/Versions/3.13/lib/python3.13/multiprocessing/queues.py\", line 387, in get\n",
      "    return _ForkingPickler.loads(res)\n",
      "           ~~~~~~~~~~~~~~~~~~~~~^^^^^\n",
      "  File \"/Users/eguchimasato/random-assignment-dl/model/efficiency.py\", line 1, in <module>\n",
      "    import torch\n",
      "  File \"/opt/homebrew/lib/python3.13/site-packages/torch/__init__.py\", line 2108, in <module>\n",
      "    from torch import _VF as _VF, functional as functional  # usort: skip\n",
      "    ^^^^^^^^^^^^^^^^^^^^^^^^^^^^^^^^^^^^^^^^^^^^^^^^^^^^^^\n",
      "  File \"/opt/homebrew/lib/python3.13/site-packages/torch/functional.py\", line 7, in <module>\n",
      "    import torch.nn.functional as F\n",
      "  File \"/opt/homebrew/lib/python3.13/site-packages/torch/nn/__init__.py\", line 8, in <module>\n",
      "    from torch.nn.modules import *  # usort: skip # noqa: F403\n",
      "    ^^^^^^^^^^^^^^^^^^^^^^^^^^^^^^\n",
      "  File \"/opt/homebrew/lib/python3.13/site-packages/torch/nn/modules/__init__.py\", line 2, in <module>\n",
      "    from .linear import Bilinear, Identity, LazyLinear, Linear  # usort: skip\n",
      "    ^^^^^^^^^^^^^^^^^^^^^^^^^^^^^^^^^^^^^^^^^^^^^^^^^^^^^^^^^^\n",
      "  File \"/opt/homebrew/lib/python3.13/site-packages/torch/nn/modules/linear.py\", line 7, in <module>\n",
      "    from torch.nn import functional as F, init\n",
      "  File \"/opt/homebrew/lib/python3.13/site-packages/torch/nn/functional.py\", line 19, in <module>\n",
      "    from torch.nn import _reduction as _Reduction, grad  # noqa: F401\n",
      "    ^^^^^^^^^^^^^^^^^^^^^^^^^^^^^^^^^^^^^^^^^^^^^^^^^^^\n",
      "  File \"<frozen importlib._bootstrap>\", line 1360, in _find_and_load\n",
      "  File \"<frozen importlib._bootstrap>\", line 1322, in _find_and_load_unlocked\n",
      "  File \"<frozen importlib._bootstrap>\", line 1262, in _find_spec\n",
      "  File \"<frozen importlib._bootstrap_external>\", line 1559, in find_spec\n",
      "  File \"<frozen importlib._bootstrap_external>\", line 1533, in _get_spec\n",
      "  File \"<frozen importlib._bootstrap_external>\", line 1632, in find_spec\n",
      "  File \"<frozen importlib._bootstrap_external>\", line 152, in _path_stat\n",
      "KeyboardInterrupt\n"
     ]
    },
    {
     "ename": "KeyboardInterrupt",
     "evalue": "",
     "output_type": "error",
     "traceback": [
      "\u001b[0;31m---------------------------------------------------------------------------\u001b[0m",
      "\u001b[0;31mKeyboardInterrupt\u001b[0m                         Traceback (most recent call last)",
      "Cell \u001b[0;32mIn[6], line 1\u001b[0m\n\u001b[0;32m----> 1\u001b[0m \u001b[43mtrain_model\u001b[49m\u001b[43m(\u001b[49m\u001b[43mcfg\u001b[49m\u001b[43m,\u001b[49m\u001b[43m \u001b[49m\u001b[43mmodel\u001b[49m\u001b[43m,\u001b[49m\u001b[43m \u001b[49m\u001b[43mdata\u001b[49m\u001b[43m)\u001b[49m\n",
      "File \u001b[0;32m~/random-assignment-dl/model/model.py:81\u001b[0m, in \u001b[0;36mtrain_model\u001b[0;34m(cfg, model, data)\u001b[0m\n\u001b[1;32m     79\u001b[0m etev \u001b[38;5;241m=\u001b[39m etev_computer\u001b[38;5;241m.\u001b[39mcompute_violation_degrees(cfg)\u001b[38;5;241m.\u001b[39msum()  \u001b[38;5;66;03m# 制約条件2の損失\u001b[39;00m\n\u001b[1;32m     80\u001b[0m ev_computer \u001b[38;5;241m=\u001b[39m compute_ev(cfg, r, P)\n\u001b[0;32m---> 81\u001b[0m objective_loss \u001b[38;5;241m=\u001b[39m \u001b[43mev_computer\u001b[49m\u001b[38;5;241;43m.\u001b[39;49m\u001b[43mexecute_all_cycles_batch\u001b[49m\u001b[43m(\u001b[49m\u001b[43m)\u001b[49m\u001b[38;5;241m.\u001b[39msum()  \u001b[38;5;66;03m# 目的関数\u001b[39;00m\n\u001b[1;32m     83\u001b[0m \u001b[38;5;66;03m# 総合損失\u001b[39;00m\n\u001b[1;32m     84\u001b[0m total_loss \u001b[38;5;241m=\u001b[39m objective_loss \u001b[38;5;241m+\u001b[39m lambda_spv \u001b[38;5;241m*\u001b[39m spv \u001b[38;5;241m+\u001b[39m lambda_etev \u001b[38;5;241m*\u001b[39m etev \u001b[38;5;241m+\u001b[39m rho \u001b[38;5;241m*\u001b[39m (spv \u001b[38;5;241m+\u001b[39m etev) \u001b[38;5;241m*\u001b[39m\u001b[38;5;241m*\u001b[39m \u001b[38;5;241m2\u001b[39m\n",
      "File \u001b[0;32m~/random-assignment-dl/model/efficiency.py:136\u001b[0m, in \u001b[0;36mcompute_ev.execute_all_cycles_batch\u001b[0;34m(self)\u001b[0m\n\u001b[1;32m    132\u001b[0m preferences_list \u001b[38;5;241m=\u001b[39m [\u001b[38;5;28mself\u001b[39m\u001b[38;5;241m.\u001b[39mdivide_preferences_matrices(i) \u001b[38;5;28;01mfor\u001b[39;00m i \u001b[38;5;129;01min\u001b[39;00m \u001b[38;5;28mrange\u001b[39m(\u001b[38;5;28mself\u001b[39m\u001b[38;5;241m.\u001b[39mbatch_size)]\n\u001b[1;32m    134\u001b[0m \u001b[38;5;28;01mwith\u001b[39;00m mp\u001b[38;5;241m.\u001b[39mPool(\u001b[38;5;28mself\u001b[39m\u001b[38;5;241m.\u001b[39mnum_processes) \u001b[38;5;28;01mas\u001b[39;00m pool:\n\u001b[1;32m    135\u001b[0m     \u001b[38;5;66;03m# 各プロセスに対してバッチ内の異なる idx を渡して並列実行\u001b[39;00m\n\u001b[0;32m--> 136\u001b[0m     violations \u001b[38;5;241m=\u001b[39m \u001b[43mpool\u001b[49m\u001b[38;5;241;43m.\u001b[39;49m\u001b[43mstarmap\u001b[49m\u001b[43m(\u001b[49m\u001b[38;5;28;43mself\u001b[39;49m\u001b[38;5;241;43m.\u001b[39;49m\u001b[43mfunc\u001b[49m\u001b[43m,\u001b[49m\u001b[43m \u001b[49m\u001b[38;5;28;43mzip\u001b[39;49m\u001b[43m(\u001b[49m\u001b[43mP_list\u001b[49m\u001b[43m,\u001b[49m\u001b[43m \u001b[49m\u001b[43mpreferences_list\u001b[49m\u001b[43m)\u001b[49m\u001b[43m)\u001b[49m\n\u001b[1;32m    138\u001b[0m \u001b[38;5;66;03m# 結果を torch.Tensor に変換し、形状を (batch_size, 1) にする\u001b[39;00m\n\u001b[1;32m    139\u001b[0m violations \u001b[38;5;241m=\u001b[39m torch\u001b[38;5;241m.\u001b[39mtensor(violations, dtype\u001b[38;5;241m=\u001b[39mtorch\u001b[38;5;241m.\u001b[39mfloat32)\u001b[38;5;241m.\u001b[39munsqueeze(\u001b[38;5;241m1\u001b[39m)\n",
      "File \u001b[0;32m/opt/homebrew/Cellar/python@3.13/3.13.1/Frameworks/Python.framework/Versions/3.13/lib/python3.13/multiprocessing/pool.py:375\u001b[0m, in \u001b[0;36mPool.starmap\u001b[0;34m(self, func, iterable, chunksize)\u001b[0m\n\u001b[1;32m    369\u001b[0m \u001b[38;5;28;01mdef\u001b[39;00m\u001b[38;5;250m \u001b[39m\u001b[38;5;21mstarmap\u001b[39m(\u001b[38;5;28mself\u001b[39m, func, iterable, chunksize\u001b[38;5;241m=\u001b[39m\u001b[38;5;28;01mNone\u001b[39;00m):\n\u001b[1;32m    370\u001b[0m \u001b[38;5;250m    \u001b[39m\u001b[38;5;124;03m'''\u001b[39;00m\n\u001b[1;32m    371\u001b[0m \u001b[38;5;124;03m    Like `map()` method but the elements of the `iterable` are expected to\u001b[39;00m\n\u001b[1;32m    372\u001b[0m \u001b[38;5;124;03m    be iterables as well and will be unpacked as arguments. Hence\u001b[39;00m\n\u001b[1;32m    373\u001b[0m \u001b[38;5;124;03m    `func` and (a, b) becomes func(a, b).\u001b[39;00m\n\u001b[1;32m    374\u001b[0m \u001b[38;5;124;03m    '''\u001b[39;00m\n\u001b[0;32m--> 375\u001b[0m     \u001b[38;5;28;01mreturn\u001b[39;00m \u001b[38;5;28;43mself\u001b[39;49m\u001b[38;5;241;43m.\u001b[39;49m\u001b[43m_map_async\u001b[49m\u001b[43m(\u001b[49m\u001b[43mfunc\u001b[49m\u001b[43m,\u001b[49m\u001b[43m \u001b[49m\u001b[43miterable\u001b[49m\u001b[43m,\u001b[49m\u001b[43m \u001b[49m\u001b[43mstarmapstar\u001b[49m\u001b[43m,\u001b[49m\u001b[43m \u001b[49m\u001b[43mchunksize\u001b[49m\u001b[43m)\u001b[49m\u001b[38;5;241;43m.\u001b[39;49m\u001b[43mget\u001b[49m\u001b[43m(\u001b[49m\u001b[43m)\u001b[49m\n",
      "File \u001b[0;32m/opt/homebrew/Cellar/python@3.13/3.13.1/Frameworks/Python.framework/Versions/3.13/lib/python3.13/multiprocessing/pool.py:768\u001b[0m, in \u001b[0;36mApplyResult.get\u001b[0;34m(self, timeout)\u001b[0m\n\u001b[1;32m    767\u001b[0m \u001b[38;5;28;01mdef\u001b[39;00m\u001b[38;5;250m \u001b[39m\u001b[38;5;21mget\u001b[39m(\u001b[38;5;28mself\u001b[39m, timeout\u001b[38;5;241m=\u001b[39m\u001b[38;5;28;01mNone\u001b[39;00m):\n\u001b[0;32m--> 768\u001b[0m     \u001b[38;5;28;43mself\u001b[39;49m\u001b[38;5;241;43m.\u001b[39;49m\u001b[43mwait\u001b[49m\u001b[43m(\u001b[49m\u001b[43mtimeout\u001b[49m\u001b[43m)\u001b[49m\n\u001b[1;32m    769\u001b[0m     \u001b[38;5;28;01mif\u001b[39;00m \u001b[38;5;129;01mnot\u001b[39;00m \u001b[38;5;28mself\u001b[39m\u001b[38;5;241m.\u001b[39mready():\n\u001b[1;32m    770\u001b[0m         \u001b[38;5;28;01mraise\u001b[39;00m \u001b[38;5;167;01mTimeoutError\u001b[39;00m\n",
      "File \u001b[0;32m/opt/homebrew/Cellar/python@3.13/3.13.1/Frameworks/Python.framework/Versions/3.13/lib/python3.13/multiprocessing/pool.py:765\u001b[0m, in \u001b[0;36mApplyResult.wait\u001b[0;34m(self, timeout)\u001b[0m\n\u001b[1;32m    764\u001b[0m \u001b[38;5;28;01mdef\u001b[39;00m\u001b[38;5;250m \u001b[39m\u001b[38;5;21mwait\u001b[39m(\u001b[38;5;28mself\u001b[39m, timeout\u001b[38;5;241m=\u001b[39m\u001b[38;5;28;01mNone\u001b[39;00m):\n\u001b[0;32m--> 765\u001b[0m     \u001b[38;5;28;43mself\u001b[39;49m\u001b[38;5;241;43m.\u001b[39;49m\u001b[43m_event\u001b[49m\u001b[38;5;241;43m.\u001b[39;49m\u001b[43mwait\u001b[49m\u001b[43m(\u001b[49m\u001b[43mtimeout\u001b[49m\u001b[43m)\u001b[49m\n",
      "File \u001b[0;32m/opt/homebrew/Cellar/python@3.13/3.13.1/Frameworks/Python.framework/Versions/3.13/lib/python3.13/threading.py:659\u001b[0m, in \u001b[0;36mEvent.wait\u001b[0;34m(self, timeout)\u001b[0m\n\u001b[1;32m    657\u001b[0m signaled \u001b[38;5;241m=\u001b[39m \u001b[38;5;28mself\u001b[39m\u001b[38;5;241m.\u001b[39m_flag\n\u001b[1;32m    658\u001b[0m \u001b[38;5;28;01mif\u001b[39;00m \u001b[38;5;129;01mnot\u001b[39;00m signaled:\n\u001b[0;32m--> 659\u001b[0m     signaled \u001b[38;5;241m=\u001b[39m \u001b[38;5;28;43mself\u001b[39;49m\u001b[38;5;241;43m.\u001b[39;49m\u001b[43m_cond\u001b[49m\u001b[38;5;241;43m.\u001b[39;49m\u001b[43mwait\u001b[49m\u001b[43m(\u001b[49m\u001b[43mtimeout\u001b[49m\u001b[43m)\u001b[49m\n\u001b[1;32m    660\u001b[0m \u001b[38;5;28;01mreturn\u001b[39;00m signaled\n",
      "File \u001b[0;32m/opt/homebrew/Cellar/python@3.13/3.13.1/Frameworks/Python.framework/Versions/3.13/lib/python3.13/threading.py:359\u001b[0m, in \u001b[0;36mCondition.wait\u001b[0;34m(self, timeout)\u001b[0m\n\u001b[1;32m    357\u001b[0m \u001b[38;5;28;01mtry\u001b[39;00m:    \u001b[38;5;66;03m# restore state no matter what (e.g., KeyboardInterrupt)\u001b[39;00m\n\u001b[1;32m    358\u001b[0m     \u001b[38;5;28;01mif\u001b[39;00m timeout \u001b[38;5;129;01mis\u001b[39;00m \u001b[38;5;28;01mNone\u001b[39;00m:\n\u001b[0;32m--> 359\u001b[0m         \u001b[43mwaiter\u001b[49m\u001b[38;5;241;43m.\u001b[39;49m\u001b[43macquire\u001b[49m\u001b[43m(\u001b[49m\u001b[43m)\u001b[49m\n\u001b[1;32m    360\u001b[0m         gotit \u001b[38;5;241m=\u001b[39m \u001b[38;5;28;01mTrue\u001b[39;00m\n\u001b[1;32m    361\u001b[0m     \u001b[38;5;28;01melse\u001b[39;00m:\n",
      "\u001b[0;31mKeyboardInterrupt\u001b[0m: "
     ]
    }
   ],
   "source": [
    "train_model(cfg, model, data)"
   ]
  },
  {
   "cell_type": "code",
   "execution_count": null,
   "metadata": {},
   "outputs": [],
   "source": [
    "torch.save(model.state_dict(), 'model_250310.pth')"
   ]
  }
 ],
 "metadata": {
  "kernelspec": {
   "display_name": "Python 3",
   "language": "python",
   "name": "python3"
  },
  "language_info": {
   "codemirror_mode": {
    "name": "ipython",
    "version": 3
   },
   "file_extension": ".py",
   "mimetype": "text/x-python",
   "name": "python",
   "nbconvert_exporter": "python",
   "pygments_lexer": "ipython3",
   "version": "3.13.1"
  }
 },
 "nbformat": 4,
 "nbformat_minor": 2
}
