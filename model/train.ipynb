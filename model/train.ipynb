{
 "cells": [
  {
   "cell_type": "code",
   "execution_count": 1,
   "metadata": {},
   "outputs": [],
   "source": [
    "import os\n",
    "import sys\n",
    "import time\n",
    "import logging\n",
    "import argparse\n",
    "import numpy as np\n",
    "import pandas as pd\n",
    "from tqdm import tqdm\n",
    "from random import random\n",
    "import itertools\n",
    "from pathlib import Path\n",
    "import matplotlib.pyplot as plt\n",
    "import seaborn as sns\n",
    "import torch"
   ]
  },
  {
   "cell_type": "code",
   "execution_count": 2,
   "metadata": {},
   "outputs": [
    {
     "data": {
      "text/plain": [
       "'/Users/eguchimasato/random-assignment-dl'"
      ]
     },
     "execution_count": 2,
     "metadata": {},
     "output_type": "execute_result"
    }
   ],
   "source": [
    "project_root = os.path.abspath('..')\n",
    "if project_root not in sys.path:\n",
    "    sys.path.append(project_root)\n",
    "project_root"
   ]
  },
  {
   "cell_type": "code",
   "execution_count": 3,
   "metadata": {},
   "outputs": [],
   "source": [
    "from logging import getLogger\n",
    "logger = getLogger(__name__)\n",
    "logger.setLevel(logging.INFO)"
   ]
  },
  {
   "cell_type": "code",
   "execution_count": 4,
   "metadata": {},
   "outputs": [],
   "source": [
    "from model import NeuralNet, train_model\n",
    "from params import HParams\n",
    "from data import Data"
   ]
  },
  {
   "cell_type": "code",
   "execution_count": 5,
   "metadata": {},
   "outputs": [],
   "source": [
    "cfg = HParams(\n",
    "    num_goods=4,\n",
    "    num_hidden_nodes=64,\n",
    "    batch_size=128,\n",
    "    epochs=10000,\n",
    "    corr = 0,\n",
    "    device='mps',\n",
    "    lr=0.0001,\n",
    "    )\n",
    "model = NeuralNet(cfg)\n",
    "data = Data(cfg)"
   ]
  },
  {
   "cell_type": "code",
   "execution_count": 6,
   "metadata": {},
   "outputs": [
    {
     "name": "stdout",
     "output_type": "stream",
     "text": [
      "Training started.\n"
     ]
    },
    {
     "ename": "TypeError",
     "evalue": "compute_etev() takes 1 positional argument but 3 were given",
     "output_type": "error",
     "traceback": [
      "\u001b[0;31m---------------------------------------------------------------------------\u001b[0m",
      "\u001b[0;31mTypeError\u001b[0m                                 Traceback (most recent call last)",
      "Cell \u001b[0;32mIn[6], line 1\u001b[0m\n\u001b[0;32m----> 1\u001b[0m \u001b[43mtrain_model\u001b[49m\u001b[43m(\u001b[49m\u001b[43mcfg\u001b[49m\u001b[43m,\u001b[49m\u001b[43m \u001b[49m\u001b[43mmodel\u001b[49m\u001b[43m,\u001b[49m\u001b[43m \u001b[49m\u001b[43mdata\u001b[49m\u001b[43m)\u001b[49m\n",
      "File \u001b[0;32m~/random-assignment-dl/model/model.py:76\u001b[0m, in \u001b[0;36mtrain_model\u001b[0;34m(cfg, model, data)\u001b[0m\n\u001b[1;32m     74\u001b[0m \u001b[38;5;66;03m# 損失の計算\u001b[39;00m\n\u001b[1;32m     75\u001b[0m spv \u001b[38;5;241m=\u001b[39m compute_spv(cfg, model, r, P)  \u001b[38;5;66;03m# 制約条件1の損失\u001b[39;00m\n\u001b[0;32m---> 76\u001b[0m etev \u001b[38;5;241m=\u001b[39m \u001b[43mcompute_etev\u001b[49m\u001b[43m(\u001b[49m\u001b[43mcfg\u001b[49m\u001b[43m,\u001b[49m\u001b[43m \u001b[49m\u001b[43mr\u001b[49m\u001b[43m,\u001b[49m\u001b[43m \u001b[49m\u001b[43mP\u001b[49m\u001b[43m)\u001b[49m  \u001b[38;5;66;03m# 制約条件2の損失\u001b[39;00m\n\u001b[1;32m     77\u001b[0m objective_loss \u001b[38;5;241m=\u001b[39m compute_ev(cfg, r, P)  \u001b[38;5;66;03m# 目的関数\u001b[39;00m\n\u001b[1;32m     79\u001b[0m \u001b[38;5;66;03m# 総合損失\u001b[39;00m\n",
      "\u001b[0;31mTypeError\u001b[0m: compute_etev() takes 1 positional argument but 3 were given"
     ]
    }
   ],
   "source": [
    "train_model(cfg, model, data)"
   ]
  },
  {
   "cell_type": "code",
   "execution_count": null,
   "metadata": {},
   "outputs": [],
   "source": []
  }
 ],
 "metadata": {
  "kernelspec": {
   "display_name": "Python 3",
   "language": "python",
   "name": "python3"
  },
  "language_info": {
   "codemirror_mode": {
    "name": "ipython",
    "version": 3
   },
   "file_extension": ".py",
   "mimetype": "text/x-python",
   "name": "python",
   "nbconvert_exporter": "python",
   "pygments_lexer": "ipython3",
   "version": "3.13.1"
  }
 },
 "nbformat": 4,
 "nbformat_minor": 2
}
